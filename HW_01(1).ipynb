{
  "cells": [
    {
      "cell_type": "code",
      "execution_count": 1,
      "metadata": {
        "id": "5oyRCtnwRlWZ"
      },
      "outputs": [],
      "source": [
        "import torch"
      ]
    },
    {
      "cell_type": "code",
      "source": [
        "import numpy as np"
      ],
      "metadata": {
        "id": "f-0nWFFys9z_"
      },
      "execution_count": 10,
      "outputs": []
    },
    {
      "cell_type": "code",
      "execution_count": null,
      "metadata": {
        "id": "GgGlAh-ORlWi"
      },
      "outputs": [],
      "source": [
        "# Создайте случайный FloatTensor размера 3x4x5"
      ]
    },
    {
      "cell_type": "code",
      "source": [
        "x = torch.x = torch.randn(3, 4, 5)\n",
        "x.type()"
      ],
      "metadata": {
        "colab": {
          "base_uri": "https://localhost:8080/",
          "height": 36
        },
        "id": "dqmquyN4qY70",
        "outputId": "e0881f32-bd8d-4234-9360-6c58fa0e4929"
      },
      "execution_count": 21,
      "outputs": [
        {
          "output_type": "execute_result",
          "data": {
            "application/vnd.google.colaboratory.intrinsic+json": {
              "type": "string"
            },
            "text/plain": [
              "'torch.FloatTensor'"
            ]
          },
          "metadata": {},
          "execution_count": 21
        }
      ]
    },
    {
      "cell_type": "code",
      "source": [
        "x"
      ],
      "metadata": {
        "colab": {
          "base_uri": "https://localhost:8080/"
        },
        "id": "QTdfhjalvEYv",
        "outputId": "c5b60063-eab7-4072-9fec-b0b09a01cf0f"
      },
      "execution_count": 22,
      "outputs": [
        {
          "output_type": "execute_result",
          "data": {
            "text/plain": [
              "tensor([[[-0.2997,  0.0309, -0.3308, -1.4204,  0.4383],\n",
              "         [ 1.7472,  1.5867, -1.7131,  1.4796, -0.5134],\n",
              "         [ 0.3164,  2.0007, -0.2113,  0.0799,  0.1883],\n",
              "         [ 2.3417,  0.5962,  0.0331,  0.4591, -1.0126]],\n",
              "\n",
              "        [[-1.7777,  1.1835,  0.4383, -0.1230,  0.0051],\n",
              "         [-0.8265, -0.7891, -0.7060,  1.6155,  0.0056],\n",
              "         [-0.1707,  1.5116, -0.3992,  0.1264,  0.3204],\n",
              "         [-0.1400,  0.6743,  0.1635, -0.4018, -0.3756]],\n",
              "\n",
              "        [[ 0.3603, -0.9505, -0.2991,  0.4252, -0.9376],\n",
              "         [-0.0696, -1.0867,  0.7070,  0.8849, -0.4276],\n",
              "         [ 0.2746, -0.6548, -0.7773,  0.6397,  0.0628],\n",
              "         [ 0.0849,  1.5940,  0.6640, -0.6042,  0.6311]]])"
            ]
          },
          "metadata": {},
          "execution_count": 22
        }
      ]
    },
    {
      "cell_type": "code",
      "execution_count": null,
      "metadata": {
        "id": "lLzFWWarRlWp"
      },
      "outputs": [],
      "source": [
        "# Выведите его форму (shape)"
      ]
    },
    {
      "cell_type": "code",
      "source": [
        "x.shape"
      ],
      "metadata": {
        "colab": {
          "base_uri": "https://localhost:8080/"
        },
        "id": "7t7bYqbzsPWN",
        "outputId": "5a5b74c9-2ab7-4f13-aa99-1fb565a6ca5b"
      },
      "execution_count": 23,
      "outputs": [
        {
          "output_type": "execute_result",
          "data": {
            "text/plain": [
              "torch.Size([3, 4, 5])"
            ]
          },
          "metadata": {},
          "execution_count": 23
        }
      ]
    },
    {
      "cell_type": "code",
      "execution_count": null,
      "metadata": {
        "id": "pMhs33tZRlWt"
      },
      "outputs": [],
      "source": [
        "# Приведите его к форме 6 X 10"
      ]
    },
    {
      "cell_type": "code",
      "source": [
        "x = x.reshape(6, 10)\n",
        "x.shape"
      ],
      "metadata": {
        "colab": {
          "base_uri": "https://localhost:8080/"
        },
        "id": "UBYwkm0osZ33",
        "outputId": "06f1cc45-ee80-4635-e468-3caf6a5cbdb6"
      },
      "execution_count": 24,
      "outputs": [
        {
          "output_type": "execute_result",
          "data": {
            "text/plain": [
              "torch.Size([6, 10])"
            ]
          },
          "metadata": {},
          "execution_count": 24
        }
      ]
    },
    {
      "cell_type": "code",
      "source": [
        "x"
      ],
      "metadata": {
        "colab": {
          "base_uri": "https://localhost:8080/"
        },
        "id": "-jGugdj-vF11",
        "outputId": "698b794a-c9cc-4a02-9989-4fa91eb5c8de"
      },
      "execution_count": 25,
      "outputs": [
        {
          "output_type": "execute_result",
          "data": {
            "text/plain": [
              "tensor([[-0.2997,  0.0309, -0.3308, -1.4204,  0.4383,  1.7472,  1.5867, -1.7131,\n",
              "          1.4796, -0.5134],\n",
              "        [ 0.3164,  2.0007, -0.2113,  0.0799,  0.1883,  2.3417,  0.5962,  0.0331,\n",
              "          0.4591, -1.0126],\n",
              "        [-1.7777,  1.1835,  0.4383, -0.1230,  0.0051, -0.8265, -0.7891, -0.7060,\n",
              "          1.6155,  0.0056],\n",
              "        [-0.1707,  1.5116, -0.3992,  0.1264,  0.3204, -0.1400,  0.6743,  0.1635,\n",
              "         -0.4018, -0.3756],\n",
              "        [ 0.3603, -0.9505, -0.2991,  0.4252, -0.9376, -0.0696, -1.0867,  0.7070,\n",
              "          0.8849, -0.4276],\n",
              "        [ 0.2746, -0.6548, -0.7773,  0.6397,  0.0628,  0.0849,  1.5940,  0.6640,\n",
              "         -0.6042,  0.6311]])"
            ]
          },
          "metadata": {},
          "execution_count": 25
        }
      ]
    },
    {
      "cell_type": "code",
      "execution_count": null,
      "metadata": {
        "id": "2IdFIVQ6RlWx"
      },
      "outputs": [],
      "source": [
        "# Умножьте его на вектор [1, 4, 2, 2, 1] поэлементно"
      ]
    },
    {
      "cell_type": "code",
      "source": [
        "y = np.array([1, 4, 2, 2, 1])\n",
        "for i in y:\n",
        "  x *= i\n",
        "x"
      ],
      "metadata": {
        "colab": {
          "base_uri": "https://localhost:8080/"
        },
        "id": "YGFbjCBFsl9h",
        "outputId": "6dc3e5a0-9bb6-4fd8-873e-7fdc79e3a901"
      },
      "execution_count": 26,
      "outputs": [
        {
          "output_type": "execute_result",
          "data": {
            "text/plain": [
              "tensor([[ -4.7946,   0.4938,  -5.2926, -22.7257,   7.0124,  27.9547,  25.3879,\n",
              "         -27.4096,  23.6734,  -8.2140],\n",
              "        [  5.0619,  32.0116,  -3.3814,   1.2789,   3.0132,  37.4664,   9.5395,\n",
              "           0.5302,   7.3451, -16.2020],\n",
              "        [-28.4426,  18.9364,   7.0124,  -1.9683,   0.0820, -13.2246, -12.6252,\n",
              "         -11.2960,  25.8477,   0.0897],\n",
              "        [ -2.7312,  24.1862,  -6.3877,   2.0220,   5.1261,  -2.2407,  10.7892,\n",
              "           2.6164,  -6.4293,  -6.0097],\n",
              "        [  5.7656, -15.2078,  -4.7863,   6.8026, -15.0022,  -1.1141, -17.3865,\n",
              "          11.3115,  14.1589,  -6.8419],\n",
              "        [  4.3939, -10.4771, -12.4372,  10.2354,   1.0055,   1.3583,  25.5036,\n",
              "          10.6248,  -9.6678,  10.0976]])"
            ]
          },
          "metadata": {},
          "execution_count": 26
        }
      ]
    },
    {
      "cell_type": "code",
      "execution_count": null,
      "metadata": {
        "id": "VRmQ-fZJRlW2"
      },
      "outputs": [],
      "source": [
        "# Умножьте тензор матрично на себя, чтобы результат был размерности 6x6"
      ]
    },
    {
      "cell_type": "code",
      "source": [
        " x = x @ x.T\n",
        " x.shape"
      ],
      "metadata": {
        "colab": {
          "base_uri": "https://localhost:8080/"
        },
        "id": "lYW4kmHMt848",
        "outputId": "a963d16c-5286-4936-f5fe-4645984e4d4b"
      },
      "execution_count": 27,
      "outputs": [
        {
          "output_type": "execute_result",
          "data": {
            "text/plain": [
              "torch.Size([6, 6])"
            ]
          },
          "metadata": {},
          "execution_count": 27
        }
      ]
    },
    {
      "cell_type": "code",
      "execution_count": null,
      "metadata": {
        "id": "MGcU5O5NRlW6"
      },
      "outputs": [],
      "source": [
        "# Посчитайте производную функции y = x**3 + z - 75t в точке (1, 0.5, 2)"
      ]
    },
    {
      "cell_type": "code",
      "source": [
        "from torch.autograd import Variable\n",
        "\n",
        "x = torch.tensor(1.0, requires_grad=True)\n",
        "z = torch.tensor(0.5, requires_grad=True)\n",
        "t = torch.tensor(2.0, requires_grad=True)\n",
        "\n",
        "y = x**3 + z - 75*t\n",
        "\n",
        "y.backward()\n",
        "print(x.grad)\n",
        "print(z.grad)\n",
        "print(t.grad)"
      ],
      "metadata": {
        "colab": {
          "base_uri": "https://localhost:8080/"
        },
        "id": "umOqFc9a1FY0",
        "outputId": "79ea186c-3d52-4eab-b941-36c49c38e98a"
      },
      "execution_count": 69,
      "outputs": [
        {
          "output_type": "stream",
          "name": "stdout",
          "text": [
            "tensor(3.)\n",
            "tensor(1.)\n",
            "tensor(-75.)\n"
          ]
        }
      ]
    },
    {
      "cell_type": "code",
      "execution_count": 64,
      "metadata": {
        "id": "y6bzhgiMRlW_"
      },
      "outputs": [],
      "source": [
        "# Создайте единичный тензор размера 5x6"
      ]
    },
    {
      "cell_type": "code",
      "source": [
        "one = torch.ones(5, 6)\n",
        "one"
      ],
      "metadata": {
        "colab": {
          "base_uri": "https://localhost:8080/"
        },
        "id": "LLPPqR2Xzo1B",
        "outputId": "f828c4ae-fa1c-4355-b80d-34b96c4d3392"
      },
      "execution_count": 35,
      "outputs": [
        {
          "output_type": "execute_result",
          "data": {
            "text/plain": [
              "tensor([[1., 1., 1., 1., 1., 1.],\n",
              "        [1., 1., 1., 1., 1., 1.],\n",
              "        [1., 1., 1., 1., 1., 1.],\n",
              "        [1., 1., 1., 1., 1., 1.],\n",
              "        [1., 1., 1., 1., 1., 1.]])"
            ]
          },
          "metadata": {},
          "execution_count": 35
        }
      ]
    },
    {
      "cell_type": "code",
      "execution_count": null,
      "metadata": {
        "id": "vCV3hEx-RlXE"
      },
      "outputs": [],
      "source": [
        "# Переведите его в формат numpy"
      ]
    },
    {
      "cell_type": "code",
      "source": [
        "one = np.array(one)\n",
        "type(one)"
      ],
      "metadata": {
        "colab": {
          "base_uri": "https://localhost:8080/"
        },
        "id": "ttjVpZeU0Li0",
        "outputId": "d932072a-077b-4a95-9ba5-e37ceda9a292"
      },
      "execution_count": 34,
      "outputs": [
        {
          "output_type": "execute_result",
          "data": {
            "text/plain": [
              "numpy.ndarray"
            ]
          },
          "metadata": {},
          "execution_count": 34
        }
      ]
    },
    {
      "cell_type": "code",
      "execution_count": null,
      "metadata": {
        "id": "I-fCzginRlXM"
      },
      "outputs": [],
      "source": [
        "# Давайте теперь пооптимизируем: возьмите функцию y = x**w1 - 2 * x**2 + 5\n",
        "# Посчитайте "
      ]
    }
  ],
  "metadata": {
    "kernelspec": {
      "display_name": "Python 3",
      "language": "python",
      "name": "python3"
    },
    "language_info": {
      "codemirror_mode": {
        "name": "ipython",
        "version": 3
      },
      "file_extension": ".py",
      "mimetype": "text/x-python",
      "name": "python",
      "nbconvert_exporter": "python",
      "pygments_lexer": "ipython3",
      "version": "3.7.4"
    },
    "colab": {
      "name": "HW_01.ipynb",
      "provenance": [],
      "collapsed_sections": []
    }
  },
  "nbformat": 4,
  "nbformat_minor": 0
}