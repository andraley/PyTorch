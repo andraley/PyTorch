{
  "cells": [
    {
      "cell_type": "markdown",
      "metadata": {
        "id": "A9JZCLRlq5N7"
      },
      "source": [
        "# Попрактикуемся с тем, что изучили\n",
        "\n",
        "Будем практиковаться на датасете:\n",
        "https://www.kaggle.com/c/avito-demand-prediction\n",
        "\n",
        "Ваша задача:\n",
        "1. Создать Dataset для загрузки данных (используем только числовые данные)\n",
        "2. Обернуть его в Dataloader\n",
        "3. Написать архитектуру сети, которая предсказывает число показов на основании числовых данных (вы всегда можете нагенерить дополнительных факторов). Сеть должна включать BatchNorm слои и Dropout (или НЕ включать, но нужно обосновать)\n",
        "4. Учить будем на функцию потерь с кагла (log RMSE) - нужно её реализовать\n",
        "5. Сравните сходимость Adam, RMSProp и SGD, сделайте вывод по качеству работы модели\n",
        "\n",
        "train-test разделение нужно сделать с помощью sklearn random_state=13, test_size = 0.25\n",
        "\n",
        "Вопросы? в личку @Kinetikm"
      ]
    },
    {
      "cell_type": "code",
      "source": [
        "from google.colab import drive\n",
        "drive.mount('/content/drive')"
      ],
      "metadata": {
        "colab": {
          "base_uri": "https://localhost:8080/"
        },
        "id": "XiAShmr4yT3-",
        "outputId": "7c7f0e0e-2395-43f1-be7f-62b7220f7a31"
      },
      "execution_count": 1,
      "outputs": [
        {
          "output_type": "stream",
          "name": "stdout",
          "text": [
            "Drive already mounted at /content/drive; to attempt to forcibly remount, call drive.mount(\"/content/drive\", force_remount=True).\n"
          ]
        }
      ]
    },
    {
      "cell_type": "code",
      "source": [
        "import math\n",
        "import torch\n",
        "import numpy as np\n",
        "import pandas as pd\n",
        "from sklearn.model_selection import train_test_split\n",
        "import torch.nn.functional as F\n",
        "import torch.nn as nn\n",
        "from torch import optim\n",
        "from tqdm import tqdm"
      ],
      "metadata": {
        "id": "2d9GCGLysG0q"
      },
      "execution_count": 2,
      "outputs": []
    },
    {
      "cell_type": "markdown",
      "source": [
        "1. Создать Dataset для загрузки данных (используем только числовые данные)"
      ],
      "metadata": {
        "id": "eRl0qSOfx02s"
      }
    },
    {
      "cell_type": "code",
      "execution_count": 3,
      "metadata": {
        "colab": {
          "base_uri": "https://localhost:8080/",
          "height": 409
        },
        "id": "GIEH40l1q5Oc",
        "outputId": "9cfef9fc-acf9-4059-a2ee-75a50e16969d"
      },
      "outputs": [
        {
          "output_type": "execute_result",
          "data": {
            "text/html": [
              "\n",
              "  <div id=\"df-d9b07cf3-bfc2-417f-9b59-51dbc27a9896\">\n",
              "    <div class=\"colab-df-container\">\n",
              "      <div>\n",
              "<style scoped>\n",
              "    .dataframe tbody tr th:only-of-type {\n",
              "        vertical-align: middle;\n",
              "    }\n",
              "\n",
              "    .dataframe tbody tr th {\n",
              "        vertical-align: top;\n",
              "    }\n",
              "\n",
              "    .dataframe thead th {\n",
              "        text-align: right;\n",
              "    }\n",
              "</style>\n",
              "<table border=\"1\" class=\"dataframe\">\n",
              "  <thead>\n",
              "    <tr style=\"text-align: right;\">\n",
              "      <th></th>\n",
              "      <th>item_id</th>\n",
              "      <th>user_id</th>\n",
              "      <th>region</th>\n",
              "      <th>city</th>\n",
              "      <th>parent_category_name</th>\n",
              "      <th>category_name</th>\n",
              "      <th>param_1</th>\n",
              "      <th>param_2</th>\n",
              "      <th>param_3</th>\n",
              "      <th>title</th>\n",
              "      <th>description</th>\n",
              "      <th>price</th>\n",
              "      <th>item_seq_number</th>\n",
              "      <th>activation_date</th>\n",
              "      <th>user_type</th>\n",
              "      <th>image</th>\n",
              "      <th>image_top_1</th>\n",
              "      <th>deal_probability</th>\n",
              "    </tr>\n",
              "  </thead>\n",
              "  <tbody>\n",
              "    <tr>\n",
              "      <th>0</th>\n",
              "      <td>b912c3c6a6ad</td>\n",
              "      <td>e00f8ff2eaf9</td>\n",
              "      <td>Свердловская область</td>\n",
              "      <td>Екатеринбург</td>\n",
              "      <td>Личные вещи</td>\n",
              "      <td>Товары для детей и игрушки</td>\n",
              "      <td>Постельные принадлежности</td>\n",
              "      <td>NaN</td>\n",
              "      <td>NaN</td>\n",
              "      <td>Кокоби(кокон для сна)</td>\n",
              "      <td>Кокон для сна малыша,пользовались меньше месяц...</td>\n",
              "      <td>400.0</td>\n",
              "      <td>2</td>\n",
              "      <td>2017-03-28</td>\n",
              "      <td>Private</td>\n",
              "      <td>d10c7e016e03247a3bf2d13348fe959fe6f436c1caf64c...</td>\n",
              "      <td>1008.0</td>\n",
              "      <td>0.12789</td>\n",
              "    </tr>\n",
              "    <tr>\n",
              "      <th>1</th>\n",
              "      <td>2dac0150717d</td>\n",
              "      <td>39aeb48f0017</td>\n",
              "      <td>Самарская область</td>\n",
              "      <td>Самара</td>\n",
              "      <td>Для дома и дачи</td>\n",
              "      <td>Мебель и интерьер</td>\n",
              "      <td>Другое</td>\n",
              "      <td>NaN</td>\n",
              "      <td>NaN</td>\n",
              "      <td>Стойка для Одежды</td>\n",
              "      <td>Стойка для одежды, под вешалки. С бутика.</td>\n",
              "      <td>3000.0</td>\n",
              "      <td>19</td>\n",
              "      <td>2017-03-26</td>\n",
              "      <td>Private</td>\n",
              "      <td>79c9392cc51a9c81c6eb91eceb8e552171db39d7142700...</td>\n",
              "      <td>692.0</td>\n",
              "      <td>0.00000</td>\n",
              "    </tr>\n",
              "    <tr>\n",
              "      <th>2</th>\n",
              "      <td>ba83aefab5dc</td>\n",
              "      <td>91e2f88dd6e3</td>\n",
              "      <td>Ростовская область</td>\n",
              "      <td>Ростов-на-Дону</td>\n",
              "      <td>Бытовая электроника</td>\n",
              "      <td>Аудио и видео</td>\n",
              "      <td>Видео, DVD и Blu-ray плееры</td>\n",
              "      <td>NaN</td>\n",
              "      <td>NaN</td>\n",
              "      <td>Philips bluray</td>\n",
              "      <td>В хорошем состоянии, домашний кинотеатр с blu ...</td>\n",
              "      <td>4000.0</td>\n",
              "      <td>9</td>\n",
              "      <td>2017-03-20</td>\n",
              "      <td>Private</td>\n",
              "      <td>b7f250ee3f39e1fedd77c141f273703f4a9be59db4b48a...</td>\n",
              "      <td>3032.0</td>\n",
              "      <td>0.43177</td>\n",
              "    </tr>\n",
              "    <tr>\n",
              "      <th>3</th>\n",
              "      <td>02996f1dd2ea</td>\n",
              "      <td>bf5cccea572d</td>\n",
              "      <td>Татарстан</td>\n",
              "      <td>Набережные Челны</td>\n",
              "      <td>Личные вещи</td>\n",
              "      <td>Товары для детей и игрушки</td>\n",
              "      <td>Автомобильные кресла</td>\n",
              "      <td>NaN</td>\n",
              "      <td>NaN</td>\n",
              "      <td>Автокресло</td>\n",
              "      <td>Продам кресло от0-25кг</td>\n",
              "      <td>2200.0</td>\n",
              "      <td>286</td>\n",
              "      <td>2017-03-25</td>\n",
              "      <td>Company</td>\n",
              "      <td>e6ef97e0725637ea84e3d203e82dadb43ed3cc0a1c8413...</td>\n",
              "      <td>796.0</td>\n",
              "      <td>0.80323</td>\n",
              "    </tr>\n",
              "    <tr>\n",
              "      <th>4</th>\n",
              "      <td>7c90be56d2ab</td>\n",
              "      <td>ef50846afc0b</td>\n",
              "      <td>Волгоградская область</td>\n",
              "      <td>Волгоград</td>\n",
              "      <td>Транспорт</td>\n",
              "      <td>Автомобили</td>\n",
              "      <td>С пробегом</td>\n",
              "      <td>ВАЗ (LADA)</td>\n",
              "      <td>2110</td>\n",
              "      <td>ВАЗ 2110, 2003</td>\n",
              "      <td>Все вопросы по телефону.</td>\n",
              "      <td>40000.0</td>\n",
              "      <td>3</td>\n",
              "      <td>2017-03-16</td>\n",
              "      <td>Private</td>\n",
              "      <td>54a687a3a0fc1d68aed99bdaaf551c5c70b761b16fd0a2...</td>\n",
              "      <td>2264.0</td>\n",
              "      <td>0.20797</td>\n",
              "    </tr>\n",
              "  </tbody>\n",
              "</table>\n",
              "</div>\n",
              "      <button class=\"colab-df-convert\" onclick=\"convertToInteractive('df-d9b07cf3-bfc2-417f-9b59-51dbc27a9896')\"\n",
              "              title=\"Convert this dataframe to an interactive table.\"\n",
              "              style=\"display:none;\">\n",
              "        \n",
              "  <svg xmlns=\"http://www.w3.org/2000/svg\" height=\"24px\"viewBox=\"0 0 24 24\"\n",
              "       width=\"24px\">\n",
              "    <path d=\"M0 0h24v24H0V0z\" fill=\"none\"/>\n",
              "    <path d=\"M18.56 5.44l.94 2.06.94-2.06 2.06-.94-2.06-.94-.94-2.06-.94 2.06-2.06.94zm-11 1L8.5 8.5l.94-2.06 2.06-.94-2.06-.94L8.5 2.5l-.94 2.06-2.06.94zm10 10l.94 2.06.94-2.06 2.06-.94-2.06-.94-.94-2.06-.94 2.06-2.06.94z\"/><path d=\"M17.41 7.96l-1.37-1.37c-.4-.4-.92-.59-1.43-.59-.52 0-1.04.2-1.43.59L10.3 9.45l-7.72 7.72c-.78.78-.78 2.05 0 2.83L4 21.41c.39.39.9.59 1.41.59.51 0 1.02-.2 1.41-.59l7.78-7.78 2.81-2.81c.8-.78.8-2.07 0-2.86zM5.41 20L4 18.59l7.72-7.72 1.47 1.35L5.41 20z\"/>\n",
              "  </svg>\n",
              "      </button>\n",
              "      \n",
              "  <style>\n",
              "    .colab-df-container {\n",
              "      display:flex;\n",
              "      flex-wrap:wrap;\n",
              "      gap: 12px;\n",
              "    }\n",
              "\n",
              "    .colab-df-convert {\n",
              "      background-color: #E8F0FE;\n",
              "      border: none;\n",
              "      border-radius: 50%;\n",
              "      cursor: pointer;\n",
              "      display: none;\n",
              "      fill: #1967D2;\n",
              "      height: 32px;\n",
              "      padding: 0 0 0 0;\n",
              "      width: 32px;\n",
              "    }\n",
              "\n",
              "    .colab-df-convert:hover {\n",
              "      background-color: #E2EBFA;\n",
              "      box-shadow: 0px 1px 2px rgba(60, 64, 67, 0.3), 0px 1px 3px 1px rgba(60, 64, 67, 0.15);\n",
              "      fill: #174EA6;\n",
              "    }\n",
              "\n",
              "    [theme=dark] .colab-df-convert {\n",
              "      background-color: #3B4455;\n",
              "      fill: #D2E3FC;\n",
              "    }\n",
              "\n",
              "    [theme=dark] .colab-df-convert:hover {\n",
              "      background-color: #434B5C;\n",
              "      box-shadow: 0px 1px 3px 1px rgba(0, 0, 0, 0.15);\n",
              "      filter: drop-shadow(0px 1px 2px rgba(0, 0, 0, 0.3));\n",
              "      fill: #FFFFFF;\n",
              "    }\n",
              "  </style>\n",
              "\n",
              "      <script>\n",
              "        const buttonEl =\n",
              "          document.querySelector('#df-d9b07cf3-bfc2-417f-9b59-51dbc27a9896 button.colab-df-convert');\n",
              "        buttonEl.style.display =\n",
              "          google.colab.kernel.accessAllowed ? 'block' : 'none';\n",
              "\n",
              "        async function convertToInteractive(key) {\n",
              "          const element = document.querySelector('#df-d9b07cf3-bfc2-417f-9b59-51dbc27a9896');\n",
              "          const dataTable =\n",
              "            await google.colab.kernel.invokeFunction('convertToInteractive',\n",
              "                                                     [key], {});\n",
              "          if (!dataTable) return;\n",
              "\n",
              "          const docLinkHtml = 'Like what you see? Visit the ' +\n",
              "            '<a target=\"_blank\" href=https://colab.research.google.com/notebooks/data_table.ipynb>data table notebook</a>'\n",
              "            + ' to learn more about interactive tables.';\n",
              "          element.innerHTML = '';\n",
              "          dataTable['output_type'] = 'display_data';\n",
              "          await google.colab.output.renderOutput(dataTable, element);\n",
              "          const docLink = document.createElement('div');\n",
              "          docLink.innerHTML = docLinkHtml;\n",
              "          element.appendChild(docLink);\n",
              "        }\n",
              "      </script>\n",
              "    </div>\n",
              "  </div>\n",
              "  "
            ],
            "text/plain": [
              "        item_id       user_id  ... image_top_1 deal_probability\n",
              "0  b912c3c6a6ad  e00f8ff2eaf9  ...      1008.0          0.12789\n",
              "1  2dac0150717d  39aeb48f0017  ...       692.0          0.00000\n",
              "2  ba83aefab5dc  91e2f88dd6e3  ...      3032.0          0.43177\n",
              "3  02996f1dd2ea  bf5cccea572d  ...       796.0          0.80323\n",
              "4  7c90be56d2ab  ef50846afc0b  ...      2264.0          0.20797\n",
              "\n",
              "[5 rows x 18 columns]"
            ]
          },
          "metadata": {},
          "execution_count": 3
        }
      ],
      "source": [
        "df_avito = pd.read_csv('/content/drive/MyDrive/train.csv')\n",
        "df_avito.head()"
      ]
    },
    {
      "cell_type": "code",
      "source": [
        "df_avito.info()"
      ],
      "metadata": {
        "colab": {
          "base_uri": "https://localhost:8080/"
        },
        "id": "Ka5dh-0au-av",
        "outputId": "bf80be4b-2960-4950-a155-deb7fe6585b2"
      },
      "execution_count": 4,
      "outputs": [
        {
          "output_type": "stream",
          "name": "stdout",
          "text": [
            "<class 'pandas.core.frame.DataFrame'>\n",
            "RangeIndex: 1503424 entries, 0 to 1503423\n",
            "Data columns (total 18 columns):\n",
            " #   Column                Non-Null Count    Dtype  \n",
            "---  ------                --------------    -----  \n",
            " 0   item_id               1503424 non-null  object \n",
            " 1   user_id               1503424 non-null  object \n",
            " 2   region                1503424 non-null  object \n",
            " 3   city                  1503424 non-null  object \n",
            " 4   parent_category_name  1503424 non-null  object \n",
            " 5   category_name         1503424 non-null  object \n",
            " 6   param_1               1441848 non-null  object \n",
            " 7   param_2               848882 non-null   object \n",
            " 8   param_3               640859 non-null   object \n",
            " 9   title                 1503424 non-null  object \n",
            " 10  description           1387148 non-null  object \n",
            " 11  price                 1418062 non-null  float64\n",
            " 12  item_seq_number       1503424 non-null  int64  \n",
            " 13  activation_date       1503424 non-null  object \n",
            " 14  user_type             1503424 non-null  object \n",
            " 15  image                 1390836 non-null  object \n",
            " 16  image_top_1           1390836 non-null  float64\n",
            " 17  deal_probability      1503424 non-null  float64\n",
            "dtypes: float64(3), int64(1), object(14)\n",
            "memory usage: 206.5+ MB\n"
          ]
        }
      ]
    },
    {
      "cell_type": "code",
      "source": [
        "df_avito.isnull().values.any()"
      ],
      "metadata": {
        "colab": {
          "base_uri": "https://localhost:8080/"
        },
        "id": "9bBLfOML1RKc",
        "outputId": "e10beaff-cefa-428c-e6a5-7ecd65e31a74"
      },
      "execution_count": 5,
      "outputs": [
        {
          "output_type": "execute_result",
          "data": {
            "text/plain": [
              "True"
            ]
          },
          "metadata": {},
          "execution_count": 5
        }
      ]
    },
    {
      "cell_type": "code",
      "source": [
        "df_avito = df_avito.fillna(0)"
      ],
      "metadata": {
        "id": "3mF5RSQ11w1q"
      },
      "execution_count": 6,
      "outputs": []
    },
    {
      "cell_type": "code",
      "source": [
        "df_avito.isnull().values.any()"
      ],
      "metadata": {
        "colab": {
          "base_uri": "https://localhost:8080/"
        },
        "id": "IMJaG3Nx154N",
        "outputId": "ff0814da-5a4a-41d4-b681-91dc18f7aeca"
      },
      "execution_count": 7,
      "outputs": [
        {
          "output_type": "execute_result",
          "data": {
            "text/plain": [
              "False"
            ]
          },
          "metadata": {},
          "execution_count": 7
        }
      ]
    },
    {
      "cell_type": "code",
      "source": [
        "feature_name = ['price','item_seq_number','image_top_1']\n",
        "target_name = ['deal_probability']"
      ],
      "metadata": {
        "id": "2hFxSgYb251u"
      },
      "execution_count": 8,
      "outputs": []
    },
    {
      "cell_type": "code",
      "source": [
        "class MyAvito(torch.utils.data.Dataset):\n",
        "    def __init__(self, df, feature_name, target_name):\n",
        "\n",
        "        self.features = df[feature_name]\n",
        "        self.targets = df[target_name]\n",
        "        \n",
        "    def __len__(self):\n",
        "        return len(self.features)\n",
        "\n",
        "    def __getitem__(self, index):\n",
        "        return torch.tensor(self.features.iloc[index]).float(), torch.tensor(self.targets.iloc[index]).float()"
      ],
      "metadata": {
        "id": "QPa_vKPk09rJ"
      },
      "execution_count": 9,
      "outputs": []
    },
    {
      "cell_type": "code",
      "source": [
        "ds_avito = MyAvito(df_avito, feature_name, target_name)\n",
        "ds_avito[0]"
      ],
      "metadata": {
        "colab": {
          "base_uri": "https://localhost:8080/"
        },
        "id": "lwwhgfnK3iz9",
        "outputId": "58cc1f78-999a-49db-a89b-b61bc9c32bee"
      },
      "execution_count": 10,
      "outputs": [
        {
          "output_type": "execute_result",
          "data": {
            "text/plain": [
              "(tensor([ 400.,    2., 1008.]), tensor([0.1279]))"
            ]
          },
          "metadata": {},
          "execution_count": 10
        }
      ]
    },
    {
      "cell_type": "code",
      "source": [
        "ds_train, ds_test = train_test_split(ds_avito, test_size=0.25, random_state=12)\n",
        "print(len(ds_train), len(ds_test))"
      ],
      "metadata": {
        "colab": {
          "base_uri": "https://localhost:8080/"
        },
        "id": "3M4tkTxP4F5D",
        "outputId": "d81f038a-14fd-48a9-ceec-7ab680f3d761"
      },
      "execution_count": 11,
      "outputs": [
        {
          "output_type": "stream",
          "name": "stdout",
          "text": [
            "1127568 375856\n"
          ]
        }
      ]
    },
    {
      "cell_type": "markdown",
      "source": [
        "2. Обернуть его в Dataloader"
      ],
      "metadata": {
        "id": "h0XdenaEuCPZ"
      }
    },
    {
      "cell_type": "code",
      "source": [
        "dl_train = torch.utils.data.DataLoader(ds_train, batch_size=512)"
      ],
      "metadata": {
        "id": "3XZIAyylt109"
      },
      "execution_count": 17,
      "outputs": []
    },
    {
      "cell_type": "markdown",
      "source": [
        "3. Написать архитектуру сети, которая предсказывает число показов на основании числовых данных (вы всегда можете нагенерить дополнительных факторов). Сеть должна включать BatchNorm слои и Dropout (или НЕ включать, но нужно обосновать)"
      ],
      "metadata": {
        "id": "MSHC0oxauQgp"
      }
    },
    {
      "cell_type": "code",
      "source": [
        "class FeedForward(nn.Module):\n",
        "    def __init__(self, input_dim, hidden_dim):\n",
        "        super(FeedForward, self).__init__()\n",
        "        self.bn1 = nn.BatchNorm1d(input_dim)\n",
        "        self.fc1 = nn.Linear(input_dim, hidden_dim)\n",
        "        self.dp = nn.Dropout(0.25)\n",
        "        self.fc2 = nn.Linear(hidden_dim, 1)\n",
        "        \n",
        "    def forward(self, x):\n",
        "        x = self.bn1(x)\n",
        "        x = self.fc1(x)\n",
        "        x = F.relu(x)\n",
        "        x = self.dp(x)\n",
        "        x = self.fc2(x)\n",
        "        x = F.sigmoid(x)\n",
        "        return x"
      ],
      "metadata": {
        "id": "Y1vx0WAIuPgv"
      },
      "execution_count": 18,
      "outputs": []
    },
    {
      "cell_type": "markdown",
      "source": [
        "4. Учить будем на функцию потерь с кагла (log RMSE) - нужно её реализовать"
      ],
      "metadata": {
        "id": "1KkYK3yRvXU0"
      }
    },
    {
      "cell_type": "code",
      "source": [
        "def log_RMSE(p, t):\n",
        "    return torch.sqrt(torch.mean((torch.log(p + 1) - torch.log(t + 1)) ** 2))\n",
        "\n"
      ],
      "metadata": {
        "id": "glWV4d77vYYJ"
      },
      "execution_count": 19,
      "outputs": []
    },
    {
      "cell_type": "markdown",
      "source": [
        "5. Сравните сходимость Adam, RMSProp и SGD, сделайте вывод по качеству работы модели"
      ],
      "metadata": {
        "id": "Qg0IwilTvZC8"
      }
    },
    {
      "cell_type": "code",
      "source": [
        "net = FeedForward(3, 200)\n",
        "\n",
        "optimizer = torch.optim.SGD(net.parameters(), lr=0.01)"
      ],
      "metadata": {
        "id": "_j5TeZK7vKYN"
      },
      "execution_count": 20,
      "outputs": []
    },
    {
      "cell_type": "code",
      "source": [
        "for epoch in tqdm(range(10)):  \n",
        "    running_loss = 0.0\n",
        "    for i, data in enumerate(dl_train , 0):\n",
        "        inputs, labels = data[0], data[1]\n",
        "\n",
        "        # обнуляем градиент\n",
        "        optimizer.zero_grad()\n",
        "\n",
        "        outputs = net(inputs)\n",
        "        loss = log_RMSE(outputs, labels)\n",
        "        loss.backward()\n",
        "        optimizer.step()\n",
        "\n",
        "        # выводим статистику о процессе обучения\n",
        "        running_loss += loss.item()\n",
        "        if i % 300 == 0:    # печатаем каждые 300 mini-batches\n",
        "            print('[%d, %5d] loss: %.3f' %\n",
        "                  (epoch + 1, i + 1, running_loss / 300))\n",
        "            running_loss = 0.0\n",
        "print()\n",
        "print('Training is finished!')"
      ],
      "metadata": {
        "colab": {
          "base_uri": "https://localhost:8080/"
        },
        "id": "NIk8dCCdvoQ9",
        "outputId": "f26a9278-7694-41ef-a0d2-b8258ebd655c"
      },
      "execution_count": 21,
      "outputs": [
        {
          "output_type": "stream",
          "name": "stderr",
          "text": [
            "\r  0%|          | 0/10 [00:00<?, ?it/s]/usr/local/lib/python3.7/dist-packages/torch/nn/functional.py:1806: UserWarning: nn.functional.sigmoid is deprecated. Use torch.sigmoid instead.\n",
            "  warnings.warn(\"nn.functional.sigmoid is deprecated. Use torch.sigmoid instead.\")\n"
          ]
        },
        {
          "output_type": "stream",
          "name": "stdout",
          "text": [
            "[1,     1] loss: 0.001\n",
            "[1,   301] loss: 0.220\n",
            "[1,   601] loss: 0.191\n",
            "[1,   901] loss: 0.191\n",
            "[1,  1201] loss: 0.190\n",
            "[1,  1501] loss: 0.191\n",
            "[1,  1801] loss: 0.191\n",
            "[1,  2101] loss: 0.191\n"
          ]
        },
        {
          "output_type": "stream",
          "name": "stderr",
          "text": [
            "\r 10%|█         | 1/10 [00:07<01:04,  7.14s/it]"
          ]
        },
        {
          "output_type": "stream",
          "name": "stdout",
          "text": [
            "[2,     1] loss: 0.001\n",
            "[2,   301] loss: 0.190\n",
            "[2,   601] loss: 0.190\n",
            "[2,   901] loss: 0.191\n",
            "[2,  1201] loss: 0.190\n",
            "[2,  1501] loss: 0.191\n",
            "[2,  1801] loss: 0.191\n",
            "[2,  2101] loss: 0.190\n"
          ]
        },
        {
          "output_type": "stream",
          "name": "stderr",
          "text": [
            "\r 20%|██        | 2/10 [00:13<00:55,  6.94s/it]"
          ]
        },
        {
          "output_type": "stream",
          "name": "stdout",
          "text": [
            "[3,     1] loss: 0.001\n",
            "[3,   301] loss: 0.190\n",
            "[3,   601] loss: 0.190\n",
            "[3,   901] loss: 0.191\n",
            "[3,  1201] loss: 0.190\n",
            "[3,  1501] loss: 0.190\n",
            "[3,  1801] loss: 0.190\n",
            "[3,  2101] loss: 0.190\n"
          ]
        },
        {
          "output_type": "stream",
          "name": "stderr",
          "text": [
            "\r 30%|███       | 3/10 [00:20<00:48,  6.91s/it]"
          ]
        },
        {
          "output_type": "stream",
          "name": "stdout",
          "text": [
            "[4,     1] loss: 0.001\n",
            "[4,   301] loss: 0.190\n",
            "[4,   601] loss: 0.190\n",
            "[4,   901] loss: 0.190\n",
            "[4,  1201] loss: 0.190\n",
            "[4,  1501] loss: 0.190\n",
            "[4,  1801] loss: 0.190\n",
            "[4,  2101] loss: 0.190\n"
          ]
        },
        {
          "output_type": "stream",
          "name": "stderr",
          "text": [
            "\r 40%|████      | 4/10 [00:27<00:41,  6.91s/it]"
          ]
        },
        {
          "output_type": "stream",
          "name": "stdout",
          "text": [
            "[5,     1] loss: 0.001\n",
            "[5,   301] loss: 0.190\n",
            "[5,   601] loss: 0.189\n",
            "[5,   901] loss: 0.190\n",
            "[5,  1201] loss: 0.190\n",
            "[5,  1501] loss: 0.190\n",
            "[5,  1801] loss: 0.190\n",
            "[5,  2101] loss: 0.190\n"
          ]
        },
        {
          "output_type": "stream",
          "name": "stderr",
          "text": [
            "\r 50%|█████     | 5/10 [00:34<00:34,  6.91s/it]"
          ]
        },
        {
          "output_type": "stream",
          "name": "stdout",
          "text": [
            "[6,     1] loss: 0.001\n",
            "[6,   301] loss: 0.190\n",
            "[6,   601] loss: 0.189\n",
            "[6,   901] loss: 0.190\n",
            "[6,  1201] loss: 0.190\n",
            "[6,  1501] loss: 0.190\n",
            "[6,  1801] loss: 0.190\n",
            "[6,  2101] loss: 0.190\n"
          ]
        },
        {
          "output_type": "stream",
          "name": "stderr",
          "text": [
            "\r 60%|██████    | 6/10 [00:41<00:27,  6.95s/it]"
          ]
        },
        {
          "output_type": "stream",
          "name": "stdout",
          "text": [
            "[7,     1] loss: 0.001\n",
            "[7,   301] loss: 0.190\n",
            "[7,   601] loss: 0.189\n",
            "[7,   901] loss: 0.190\n",
            "[7,  1201] loss: 0.190\n",
            "[7,  1501] loss: 0.190\n",
            "[7,  1801] loss: 0.190\n",
            "[7,  2101] loss: 0.190\n"
          ]
        },
        {
          "output_type": "stream",
          "name": "stderr",
          "text": [
            "\r 70%|███████   | 7/10 [00:49<00:21,  7.14s/it]"
          ]
        },
        {
          "output_type": "stream",
          "name": "stdout",
          "text": [
            "[8,     1] loss: 0.001\n",
            "[8,   301] loss: 0.190\n",
            "[8,   601] loss: 0.189\n",
            "[8,   901] loss: 0.190\n",
            "[8,  1201] loss: 0.189\n",
            "[8,  1501] loss: 0.190\n",
            "[8,  1801] loss: 0.190\n",
            "[8,  2101] loss: 0.190\n"
          ]
        },
        {
          "output_type": "stream",
          "name": "stderr",
          "text": [
            "\r 80%|████████  | 8/10 [00:56<00:14,  7.23s/it]"
          ]
        },
        {
          "output_type": "stream",
          "name": "stdout",
          "text": [
            "[9,     1] loss: 0.001\n",
            "[9,   301] loss: 0.189\n",
            "[9,   601] loss: 0.189\n",
            "[9,   901] loss: 0.190\n",
            "[9,  1201] loss: 0.189\n",
            "[9,  1501] loss: 0.190\n",
            "[9,  1801] loss: 0.190\n",
            "[9,  2101] loss: 0.190\n"
          ]
        },
        {
          "output_type": "stream",
          "name": "stderr",
          "text": [
            "\r 90%|█████████ | 9/10 [01:03<00:07,  7.25s/it]"
          ]
        },
        {
          "output_type": "stream",
          "name": "stdout",
          "text": [
            "[10,     1] loss: 0.001\n",
            "[10,   301] loss: 0.189\n",
            "[10,   601] loss: 0.189\n",
            "[10,   901] loss: 0.190\n",
            "[10,  1201] loss: 0.189\n",
            "[10,  1501] loss: 0.190\n",
            "[10,  1801] loss: 0.190\n",
            "[10,  2101] loss: 0.189\n"
          ]
        },
        {
          "output_type": "stream",
          "name": "stderr",
          "text": [
            "100%|██████████| 10/10 [01:10<00:00,  7.10s/it]"
          ]
        },
        {
          "output_type": "stream",
          "name": "stdout",
          "text": [
            "\n",
            "Training is finished!\n"
          ]
        },
        {
          "output_type": "stream",
          "name": "stderr",
          "text": [
            "\n"
          ]
        }
      ]
    },
    {
      "cell_type": "code",
      "source": [
        "net = FeedForward(3, 200)\n",
        "\n",
        "optimizer = torch.optim.Adam(net.parameters(), lr=0.01)"
      ],
      "metadata": {
        "id": "7PFYZ8e8wpnv"
      },
      "execution_count": 22,
      "outputs": []
    },
    {
      "cell_type": "code",
      "source": [
        "for epoch in tqdm(range(10)):  \n",
        "    running_loss = 0.0\n",
        "    for i, data in enumerate(dl_train , 0):\n",
        "        inputs, labels = data[0], data[1]\n",
        "\n",
        "        # обнуляем градиент\n",
        "        optimizer.zero_grad()\n",
        "\n",
        "        outputs = net(inputs)\n",
        "        loss = log_RMSE(outputs, labels)\n",
        "        loss.backward()\n",
        "        optimizer.step()\n",
        "\n",
        "        # выводим статистику о процессе обучения\n",
        "        running_loss += loss.item()\n",
        "        if i % 300 == 0:    # печатаем каждые 300 mini-batches\n",
        "            print('[%d, %5d] loss: %.3f' %\n",
        "                  (epoch + 1, i + 1, running_loss / 300))\n",
        "            running_loss = 0.0\n",
        "print()\n",
        "print('Training is finished!')"
      ],
      "metadata": {
        "colab": {
          "base_uri": "https://localhost:8080/"
        },
        "id": "OV3MkXQJwxQa",
        "outputId": "20ce4669-e5ae-4455-bd1c-b9597aec50cf"
      },
      "execution_count": 23,
      "outputs": [
        {
          "output_type": "stream",
          "name": "stderr",
          "text": [
            "\r  0%|          | 0/10 [00:00<?, ?it/s]/usr/local/lib/python3.7/dist-packages/torch/nn/functional.py:1806: UserWarning: nn.functional.sigmoid is deprecated. Use torch.sigmoid instead.\n",
            "  warnings.warn(\"nn.functional.sigmoid is deprecated. Use torch.sigmoid instead.\")\n"
          ]
        },
        {
          "output_type": "stream",
          "name": "stdout",
          "text": [
            "[1,     1] loss: 0.001\n",
            "[1,   301] loss: 0.191\n",
            "[1,   601] loss: 0.188\n",
            "[1,   901] loss: 0.188\n",
            "[1,  1201] loss: 0.188\n",
            "[1,  1501] loss: 0.188\n",
            "[1,  1801] loss: 0.188\n",
            "[1,  2101] loss: 0.188\n"
          ]
        },
        {
          "output_type": "stream",
          "name": "stderr",
          "text": [
            "\r 10%|█         | 1/10 [00:08<01:12,  8.06s/it]"
          ]
        },
        {
          "output_type": "stream",
          "name": "stdout",
          "text": [
            "[2,     1] loss: 0.001\n",
            "[2,   301] loss: 0.187\n",
            "[2,   601] loss: 0.187\n",
            "[2,   901] loss: 0.188\n",
            "[2,  1201] loss: 0.188\n",
            "[2,  1501] loss: 0.188\n",
            "[2,  1801] loss: 0.188\n",
            "[2,  2101] loss: 0.187\n"
          ]
        },
        {
          "output_type": "stream",
          "name": "stderr",
          "text": [
            "\r 20%|██        | 2/10 [00:15<01:02,  7.83s/it]"
          ]
        },
        {
          "output_type": "stream",
          "name": "stdout",
          "text": [
            "[3,     1] loss: 0.001\n",
            "[3,   301] loss: 0.187\n",
            "[3,   601] loss: 0.187\n",
            "[3,   901] loss: 0.187\n",
            "[3,  1201] loss: 0.188\n",
            "[3,  1501] loss: 0.187\n",
            "[3,  1801] loss: 0.188\n",
            "[3,  2101] loss: 0.187\n"
          ]
        },
        {
          "output_type": "stream",
          "name": "stderr",
          "text": [
            "\r 30%|███       | 3/10 [00:23<00:54,  7.80s/it]"
          ]
        },
        {
          "output_type": "stream",
          "name": "stdout",
          "text": [
            "[4,     1] loss: 0.001\n",
            "[4,   301] loss: 0.187\n",
            "[4,   601] loss: 0.187\n",
            "[4,   901] loss: 0.187\n",
            "[4,  1201] loss: 0.187\n",
            "[4,  1501] loss: 0.187\n",
            "[4,  1801] loss: 0.188\n",
            "[4,  2101] loss: 0.187\n"
          ]
        },
        {
          "output_type": "stream",
          "name": "stderr",
          "text": [
            "\r 40%|████      | 4/10 [00:31<00:46,  7.80s/it]"
          ]
        },
        {
          "output_type": "stream",
          "name": "stdout",
          "text": [
            "[5,     1] loss: 0.001\n",
            "[5,   301] loss: 0.187\n",
            "[5,   601] loss: 0.187\n",
            "[5,   901] loss: 0.187\n",
            "[5,  1201] loss: 0.187\n",
            "[5,  1501] loss: 0.187\n",
            "[5,  1801] loss: 0.187\n",
            "[5,  2101] loss: 0.187\n"
          ]
        },
        {
          "output_type": "stream",
          "name": "stderr",
          "text": [
            "\r 50%|█████     | 5/10 [00:39<00:39,  7.80s/it]"
          ]
        },
        {
          "output_type": "stream",
          "name": "stdout",
          "text": [
            "[6,     1] loss: 0.001\n",
            "[6,   301] loss: 0.187\n",
            "[6,   601] loss: 0.187\n",
            "[6,   901] loss: 0.187\n",
            "[6,  1201] loss: 0.187\n",
            "[6,  1501] loss: 0.187\n",
            "[6,  1801] loss: 0.187\n",
            "[6,  2101] loss: 0.187\n"
          ]
        },
        {
          "output_type": "stream",
          "name": "stderr",
          "text": [
            "\r 60%|██████    | 6/10 [00:46<00:31,  7.83s/it]"
          ]
        },
        {
          "output_type": "stream",
          "name": "stdout",
          "text": [
            "[7,     1] loss: 0.001\n",
            "[7,   301] loss: 0.187\n",
            "[7,   601] loss: 0.187\n",
            "[7,   901] loss: 0.187\n",
            "[7,  1201] loss: 0.187\n",
            "[7,  1501] loss: 0.187\n",
            "[7,  1801] loss: 0.188\n",
            "[7,  2101] loss: 0.187\n"
          ]
        },
        {
          "output_type": "stream",
          "name": "stderr",
          "text": [
            "\r 70%|███████   | 7/10 [00:54<00:23,  7.86s/it]"
          ]
        },
        {
          "output_type": "stream",
          "name": "stdout",
          "text": [
            "[8,     1] loss: 0.001\n",
            "[8,   301] loss: 0.187\n",
            "[8,   601] loss: 0.187\n",
            "[8,   901] loss: 0.187\n",
            "[8,  1201] loss: 0.187\n",
            "[8,  1501] loss: 0.187\n",
            "[8,  1801] loss: 0.187\n",
            "[8,  2101] loss: 0.187\n"
          ]
        },
        {
          "output_type": "stream",
          "name": "stderr",
          "text": [
            "\r 80%|████████  | 8/10 [01:02<00:15,  7.92s/it]"
          ]
        },
        {
          "output_type": "stream",
          "name": "stdout",
          "text": [
            "[9,     1] loss: 0.001\n",
            "[9,   301] loss: 0.187\n",
            "[9,   601] loss: 0.187\n",
            "[9,   901] loss: 0.187\n",
            "[9,  1201] loss: 0.187\n",
            "[9,  1501] loss: 0.187\n",
            "[9,  1801] loss: 0.187\n",
            "[9,  2101] loss: 0.187\n"
          ]
        },
        {
          "output_type": "stream",
          "name": "stderr",
          "text": [
            "\r 90%|█████████ | 9/10 [01:10<00:07,  7.92s/it]"
          ]
        },
        {
          "output_type": "stream",
          "name": "stdout",
          "text": [
            "[10,     1] loss: 0.001\n",
            "[10,   301] loss: 0.187\n",
            "[10,   601] loss: 0.187\n",
            "[10,   901] loss: 0.187\n",
            "[10,  1201] loss: 0.187\n",
            "[10,  1501] loss: 0.187\n",
            "[10,  1801] loss: 0.187\n",
            "[10,  2101] loss: 0.187\n"
          ]
        },
        {
          "output_type": "stream",
          "name": "stderr",
          "text": [
            "100%|██████████| 10/10 [01:18<00:00,  7.87s/it]"
          ]
        },
        {
          "output_type": "stream",
          "name": "stdout",
          "text": [
            "\n",
            "Training is finished!\n"
          ]
        },
        {
          "output_type": "stream",
          "name": "stderr",
          "text": [
            "\n"
          ]
        }
      ]
    },
    {
      "cell_type": "code",
      "source": [
        "net = FeedForward(3, 200)\n",
        "\n",
        "optimizer = torch.optim.RMSprop(net.parameters(), lr=0.01)"
      ],
      "metadata": {
        "id": "Hi_HEt-dw4Y-"
      },
      "execution_count": 24,
      "outputs": []
    },
    {
      "cell_type": "code",
      "source": [
        "for epoch in tqdm(range(10)):  \n",
        "    running_loss = 0.0\n",
        "    for i, data in enumerate(dl_train , 0):\n",
        "        inputs, labels = data[0], data[1]\n",
        "\n",
        "        # обнуляем градиент\n",
        "        optimizer.zero_grad()\n",
        "\n",
        "        outputs = net(inputs)\n",
        "        loss = log_RMSE(outputs, labels)\n",
        "        loss.backward()\n",
        "        optimizer.step()\n",
        "\n",
        "        # выводим статистику о процессе обучения\n",
        "        running_loss += loss.item()\n",
        "        if i % 300 == 0:    # печатаем каждые 300 mini-batches\n",
        "            print('[%d, %5d] loss: %.3f' %\n",
        "                  (epoch + 1, i + 1, running_loss / 300))\n",
        "            running_loss = 0.0\n",
        "print()\n",
        "print('Training is finished!')"
      ],
      "metadata": {
        "colab": {
          "base_uri": "https://localhost:8080/"
        },
        "id": "cLCZ3REhw_2r",
        "outputId": "f183489c-8872-437f-bee4-da479ccdb837"
      },
      "execution_count": 25,
      "outputs": [
        {
          "output_type": "stream",
          "name": "stderr",
          "text": [
            "\r  0%|          | 0/10 [00:00<?, ?it/s]/usr/local/lib/python3.7/dist-packages/torch/nn/functional.py:1806: UserWarning: nn.functional.sigmoid is deprecated. Use torch.sigmoid instead.\n",
            "  warnings.warn(\"nn.functional.sigmoid is deprecated. Use torch.sigmoid instead.\")\n"
          ]
        },
        {
          "output_type": "stream",
          "name": "stdout",
          "text": [
            "[1,     1] loss: 0.001\n",
            "[1,   301] loss: 0.189\n",
            "[1,   601] loss: 0.188\n",
            "[1,   901] loss: 0.189\n",
            "[1,  1201] loss: 0.188\n",
            "[1,  1501] loss: 0.188\n",
            "[1,  1801] loss: 0.188\n",
            "[1,  2101] loss: 0.188\n"
          ]
        },
        {
          "output_type": "stream",
          "name": "stderr",
          "text": [
            "\r 10%|█         | 1/10 [00:07<01:07,  7.44s/it]"
          ]
        },
        {
          "output_type": "stream",
          "name": "stdout",
          "text": [
            "[2,     1] loss: 0.001\n",
            "[2,   301] loss: 0.188\n",
            "[2,   601] loss: 0.187\n",
            "[2,   901] loss: 0.188\n",
            "[2,  1201] loss: 0.188\n",
            "[2,  1501] loss: 0.188\n",
            "[2,  1801] loss: 0.188\n",
            "[2,  2101] loss: 0.188\n"
          ]
        },
        {
          "output_type": "stream",
          "name": "stderr",
          "text": [
            "\r 20%|██        | 2/10 [00:14<00:59,  7.44s/it]"
          ]
        },
        {
          "output_type": "stream",
          "name": "stdout",
          "text": [
            "[3,     1] loss: 0.001\n",
            "[3,   301] loss: 0.188\n",
            "[3,   601] loss: 0.187\n",
            "[3,   901] loss: 0.188\n",
            "[3,  1201] loss: 0.188\n",
            "[3,  1501] loss: 0.188\n",
            "[3,  1801] loss: 0.188\n",
            "[3,  2101] loss: 0.188\n"
          ]
        },
        {
          "output_type": "stream",
          "name": "stderr",
          "text": [
            "\r 30%|███       | 3/10 [00:22<00:51,  7.37s/it]"
          ]
        },
        {
          "output_type": "stream",
          "name": "stdout",
          "text": [
            "[4,     1] loss: 0.001\n",
            "[4,   301] loss: 0.187\n",
            "[4,   601] loss: 0.187\n",
            "[4,   901] loss: 0.188\n",
            "[4,  1201] loss: 0.188\n",
            "[4,  1501] loss: 0.188\n",
            "[4,  1801] loss: 0.188\n",
            "[4,  2101] loss: 0.188\n"
          ]
        },
        {
          "output_type": "stream",
          "name": "stderr",
          "text": [
            "\r 40%|████      | 4/10 [00:29<00:44,  7.36s/it]"
          ]
        },
        {
          "output_type": "stream",
          "name": "stdout",
          "text": [
            "[5,     1] loss: 0.001\n",
            "[5,   301] loss: 0.187\n",
            "[5,   601] loss: 0.187\n",
            "[5,   901] loss: 0.188\n",
            "[5,  1201] loss: 0.187\n",
            "[5,  1501] loss: 0.187\n",
            "[5,  1801] loss: 0.188\n",
            "[5,  2101] loss: 0.188\n"
          ]
        },
        {
          "output_type": "stream",
          "name": "stderr",
          "text": [
            "\r 50%|█████     | 5/10 [00:37<00:37,  7.41s/it]"
          ]
        },
        {
          "output_type": "stream",
          "name": "stdout",
          "text": [
            "[6,     1] loss: 0.001\n",
            "[6,   301] loss: 0.187\n",
            "[6,   601] loss: 0.187\n",
            "[6,   901] loss: 0.188\n",
            "[6,  1201] loss: 0.187\n",
            "[6,  1501] loss: 0.187\n",
            "[6,  1801] loss: 0.188\n",
            "[6,  2101] loss: 0.188\n"
          ]
        },
        {
          "output_type": "stream",
          "name": "stderr",
          "text": [
            "\r 60%|██████    | 6/10 [00:44<00:30,  7.51s/it]"
          ]
        },
        {
          "output_type": "stream",
          "name": "stdout",
          "text": [
            "[7,     1] loss: 0.001\n",
            "[7,   301] loss: 0.187\n",
            "[7,   601] loss: 0.187\n",
            "[7,   901] loss: 0.188\n",
            "[7,  1201] loss: 0.187\n",
            "[7,  1501] loss: 0.187\n",
            "[7,  1801] loss: 0.188\n",
            "[7,  2101] loss: 0.188\n"
          ]
        },
        {
          "output_type": "stream",
          "name": "stderr",
          "text": [
            "\r 70%|███████   | 7/10 [00:52<00:22,  7.52s/it]"
          ]
        },
        {
          "output_type": "stream",
          "name": "stdout",
          "text": [
            "[8,     1] loss: 0.001\n",
            "[8,   301] loss: 0.187\n",
            "[8,   601] loss: 0.187\n",
            "[8,   901] loss: 0.188\n",
            "[8,  1201] loss: 0.187\n",
            "[8,  1501] loss: 0.187\n",
            "[8,  1801] loss: 0.188\n",
            "[8,  2101] loss: 0.188\n"
          ]
        },
        {
          "output_type": "stream",
          "name": "stderr",
          "text": [
            "\r 80%|████████  | 8/10 [00:59<00:14,  7.48s/it]"
          ]
        },
        {
          "output_type": "stream",
          "name": "stdout",
          "text": [
            "[9,     1] loss: 0.001\n",
            "[9,   301] loss: 0.187\n",
            "[9,   601] loss: 0.187\n",
            "[9,   901] loss: 0.188\n",
            "[9,  1201] loss: 0.187\n",
            "[9,  1501] loss: 0.187\n",
            "[9,  1801] loss: 0.188\n",
            "[9,  2101] loss: 0.188\n"
          ]
        },
        {
          "output_type": "stream",
          "name": "stderr",
          "text": [
            "\r 90%|█████████ | 9/10 [01:07<00:07,  7.47s/it]"
          ]
        },
        {
          "output_type": "stream",
          "name": "stdout",
          "text": [
            "[10,     1] loss: 0.001\n",
            "[10,   301] loss: 0.187\n",
            "[10,   601] loss: 0.187\n",
            "[10,   901] loss: 0.188\n",
            "[10,  1201] loss: 0.187\n",
            "[10,  1501] loss: 0.187\n",
            "[10,  1801] loss: 0.188\n",
            "[10,  2101] loss: 0.187\n"
          ]
        },
        {
          "output_type": "stream",
          "name": "stderr",
          "text": [
            "100%|██████████| 10/10 [01:14<00:00,  7.46s/it]"
          ]
        },
        {
          "output_type": "stream",
          "name": "stdout",
          "text": [
            "\n",
            "Training is finished!\n"
          ]
        },
        {
          "output_type": "stream",
          "name": "stderr",
          "text": [
            "\n"
          ]
        }
      ]
    },
    {
      "cell_type": "markdown",
      "source": [
        "Наиболее эффективно показал себя оптимизатор Адам. Он быстрее всех сошёлся и потери постояно составляли 0.187"
      ],
      "metadata": {
        "id": "UwXHpui34X7U"
      }
    },
    {
      "cell_type": "code",
      "source": [
        ""
      ],
      "metadata": {
        "id": "Pk5FZt7P5Wsv"
      },
      "execution_count": null,
      "outputs": []
    }
  ],
  "metadata": {
    "kernelspec": {
      "display_name": "Python 3",
      "language": "python",
      "name": "python3"
    },
    "language_info": {
      "codemirror_mode": {
        "name": "ipython",
        "version": 3
      },
      "file_extension": ".py",
      "mimetype": "text/x-python",
      "name": "python",
      "nbconvert_exporter": "python",
      "pygments_lexer": "ipython3",
      "version": "3.7.4"
    },
    "colab": {
      "name": "HW_03.ipynb",
      "provenance": [],
      "collapsed_sections": []
    }
  },
  "nbformat": 4,
  "nbformat_minor": 0
}